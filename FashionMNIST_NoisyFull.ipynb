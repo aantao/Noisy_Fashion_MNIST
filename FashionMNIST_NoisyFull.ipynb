{
 "cells": [
  {
   "cell_type": "code",
   "execution_count": 1,
   "id": "891485db-eebf-41a9-a375-39b45a92119a",
   "metadata": {},
   "outputs": [],
   "source": [
    "import numpy as np\n",
    "import scipy\n",
    "import matplotlib.pyplot as plt\n",
    "import pandas as pd\n",
    "#import seaborn as sns\n",
    "\n",
    "import sklearn\n",
    "from sklearn.decomposition import PCA\n",
    "from sklearn.metrics import confusion_matrix\n",
    "from sklearn.svm import SVC\n",
    "from sklearn.utils import shuffle\n",
    "from sklearn.model_selection import cross_val_score\n",
    "from sklearn.model_selection import KFold\n",
    "from sklearn.model_selection import train_test_split\n",
    "\n",
    "\n",
    "from sklearn.datasets import fetch_openml\n",
    "\n",
    "import torch\n",
    "import torch.nn as nn\n",
    "import torch.optim as optim \n",
    "import torch.nn.functional as F\n",
    "from torchvision import datasets, transforms\n",
    "from torch.utils.data.sampler import  SubsetRandomSampler  #for validation test\n",
    "from torch.utils.data import Dataset\n",
    "from torch.utils.data import DataLoader\n",
    "from torch.utils.data import TensorDataset\n",
    "from torch.autograd import Variable"
   ]
  },
  {
   "cell_type": "code",
   "execution_count": 2,
   "id": "e9a8c991-7558-4add-bcca-c544c4e34dbb",
   "metadata": {},
   "outputs": [],
   "source": [
    "def get_fc(inp_dim, out_dim, non_linear='relu'):\n",
    "    \"\"\"\n",
    "    Mid-level API. It is useful to customize your own for large code repo.\n",
    "    :param inp_dim: int, intput dimension\n",
    "    :param out_dim: int, output dimension\n",
    "    :param non_linear: str, 'relu', 'softmax'\n",
    "    :return: list of layers [FC(inp_dim, out_dim), (non linear layer)]\n",
    "    \"\"\"\n",
    "    layers = []\n",
    "    layers.append(nn.Linear(inp_dim, out_dim))\n",
    "    if non_linear == 'relu':\n",
    "        layers.append(nn.ReLU())\n",
    "    elif non_linear == 'softmax':\n",
    "        layers.append(nn.Softmax(dim=1))\n",
    "    elif non_linear == 'none':\n",
    "        pass\n",
    "    else:\n",
    "        raise NotImplementedError\n",
    "    return layers"
   ]
  },
  {
   "cell_type": "code",
   "execution_count": 3,
   "id": "2c0f3ba8-f681-4812-a8a8-f09875fef813",
   "metadata": {},
   "outputs": [],
   "source": [
    "class SimpleCNN(nn.Module):\n",
    "    \"\"\"\n",
    "    Model definition\n",
    "    \"\"\"\n",
    "    def __init__(self, num_classes=10, inp_size=28, c_dim=1):\n",
    "        super().__init__()\n",
    "        self.num_classes = num_classes\n",
    "        #add layer one by one -- one way to add layers\n",
    "        self.conv1 = nn.Conv2d(c_dim, 32, 5, padding=2)\n",
    "        self.conv2 = nn.Conv2d(32, 64, 5, padding=2)\n",
    "        self.nonlinear = nn.ReLU(inplace = False)                \n",
    "        self.pool1 = nn.AvgPool2d(2, 2)\n",
    "        self.pool2 = nn.AvgPool2d(2, 2)\n",
    "\n",
    "        self.flat_dim = int((inp_size*inp_size*64)/16)\n",
    "        self.fc1 = nn.Sequential(*get_fc(self.flat_dim, 128, 'relu'))\n",
    "        self.fc2 = nn.Sequential(*get_fc(128, num_classes, 'none'))\n",
    "\n",
    "    def forward(self, x):\n",
    "        \"\"\"\n",
    "        :param x: input image in shape of (N, C, H, W)\n",
    "        :return: out: classification logits in shape of (N, Nc)\n",
    "        \"\"\"\n",
    "        N = x.size(0)        \n",
    "        x = self.conv1(x)        \n",
    "        x = self.nonlinear(x)        \n",
    "        x = self.pool1(x)\n",
    "\n",
    "        x = self.conv2(x)\n",
    "        x = self.nonlinear(x)\n",
    "        x = self.pool2(x)\n",
    "\n",
    "        #check the dimension of input here\n",
    "       # print(\"size\",x.shape)\n",
    "        flat_x = x.view(N,self.flat_dim)\n",
    "        out = self.fc1(flat_x)\n",
    "        out = self.fc2(out)   \n",
    "        \n",
    "        return out"
   ]
  },
  {
   "cell_type": "code",
   "execution_count": 4,
   "id": "dc701dd2-b938-424e-887c-be8c62fb6550",
   "metadata": {
    "tags": []
   },
   "outputs": [],
   "source": [
    "class FMNISTDatapy(Dataset):\n",
    "\n",
    "    def __init__(self,x_data,y_data, train=True):\n",
    "        #x_train, x_test, y_train, y_test = train_test_split(X, y, test_size=0.2, train_size=0.8, random_state=4)\n",
    "        \n",
    "       \n",
    "        if train:\n",
    "        #print(np.max(x_data))\n",
    "        #print(np.max(y_data))\n",
    "            self.x_data, self.y_data = torch.from_numpy(x_data), torch.from_numpy(y_data)\n",
    "            print(type(self.x_data))\n",
    "            print(len(self.x_data))\n",
    "        else:\n",
    "            self.x_data, self.y_data = torch.from_numpy(x_data), torch.from_numpy(y_data)\n",
    "\n",
    "    def __len__(self):\n",
    "        return len(self.x_data)\n",
    "    \n",
    "    def __getitem__(self, i):\n",
    "        return self.x_data[i], self.y_data[i]"
   ]
  },
  {
   "cell_type": "code",
   "execution_count": 5,
   "id": "1f20f481-cfb2-4749-8a6d-e4d3e0a99059",
   "metadata": {},
   "outputs": [],
   "source": [
    "fmnist_data = fetch_openml(name =\"Fashion-MNIST\")\n",
    "fmnistData = fmnist_data.data.to_numpy()\n",
    "fmnistTarget = fmnist_data.target.to_numpy()\n",
    "#fmnistTarget = np.expand_dims(fmnistTarget, axis = 1)\n",
    "fmnistTarget = fmnistTarget.astype(int)\n",
    "x_train, x_test, y_train, y_test = train_test_split(fmnistData, fmnistTarget, test_size=0.2, train_size=0.8, random_state=42)"
   ]
  },
  {
   "cell_type": "code",
   "execution_count": 6,
   "id": "735bdc8c-e5ed-45e3-a6a7-b51dd3ad8f14",
   "metadata": {},
   "outputs": [
    {
     "data": {
      "text/plain": [
       "(14000, 784)"
      ]
     },
     "execution_count": 6,
     "metadata": {},
     "output_type": "execute_result"
    }
   ],
   "source": [
    "np.shape(x_test)"
   ]
  },
  {
   "cell_type": "code",
   "execution_count": 7,
   "id": "ef6e697f-4a67-4c49-94ff-e5e367157aae",
   "metadata": {
    "tags": []
   },
   "outputs": [
    {
     "name": "stdout",
     "output_type": "stream",
     "text": [
      "<class 'torch.Tensor'>\n",
      "56000\n",
      "Train Epoch: 0 [0 (56000%)]\tLoss: 7.502061\n",
      "Train Epoch: 0 [100 (56000%)]\tLoss: 0.542517\n",
      "Train Epoch: 0 [200 (56000%)]\tLoss: 0.360094\n",
      "Train Epoch: 0 [300 (56000%)]\tLoss: 0.625939\n",
      "Train Epoch: 0 [400 (56000%)]\tLoss: 0.734730\n",
      "Train Epoch: 0 [500 (56000%)]\tLoss: 0.488602\n",
      "Train Epoch: 0 [600 (56000%)]\tLoss: 0.798847\n",
      "Train Epoch: 0 [700 (56000%)]\tLoss: 0.583655\n",
      "Train Epoch: 0 [800 (56000%)]\tLoss: 0.381804\n",
      "Train Epoch: 0 [900 (56000%)]\tLoss: 0.533259\n",
      "Train Epoch: 0 [1000 (56000%)]\tLoss: 0.305066\n",
      "Train Epoch: 0 [1100 (56000%)]\tLoss: 0.168527\n",
      "Train Epoch: 0 [1200 (56000%)]\tLoss: 0.301914\n",
      "Train Epoch: 0 [1300 (56000%)]\tLoss: 0.285105\n",
      "Train Epoch: 0 [1400 (56000%)]\tLoss: 0.239867\n",
      "Train Epoch: 0 [1500 (56000%)]\tLoss: 0.343784\n",
      "Train Epoch: 0 [1600 (56000%)]\tLoss: 0.323056\n",
      "Train Epoch: 0 [1700 (56000%)]\tLoss: 0.389336\n",
      "0.875\n",
      "Train Epoch: 1 [1800 (56000%)]\tLoss: 0.419120\n",
      "Train Epoch: 1 [1900 (56000%)]\tLoss: 0.661881\n",
      "Train Epoch: 1 [2000 (56000%)]\tLoss: 0.401049\n",
      "Train Epoch: 1 [2100 (56000%)]\tLoss: 0.247880\n",
      "Train Epoch: 1 [2200 (56000%)]\tLoss: 0.288035\n",
      "Train Epoch: 1 [2300 (56000%)]\tLoss: 0.290773\n",
      "Train Epoch: 1 [2400 (56000%)]\tLoss: 0.292784\n",
      "Train Epoch: 1 [2500 (56000%)]\tLoss: 0.188795\n",
      "Train Epoch: 1 [2600 (56000%)]\tLoss: 0.349337\n",
      "Train Epoch: 1 [2700 (56000%)]\tLoss: 0.253279\n",
      "Train Epoch: 1 [2800 (56000%)]\tLoss: 0.465891\n",
      "Train Epoch: 1 [2900 (56000%)]\tLoss: 0.419831\n",
      "Train Epoch: 1 [3000 (56000%)]\tLoss: 0.188117\n",
      "Train Epoch: 1 [3100 (56000%)]\tLoss: 0.300107\n",
      "Train Epoch: 1 [3200 (56000%)]\tLoss: 0.087000\n",
      "Train Epoch: 1 [3300 (56000%)]\tLoss: 0.321523\n",
      "Train Epoch: 1 [3400 (56000%)]\tLoss: 0.165543\n",
      "0.9375\n",
      "Train Epoch: 2 [3500 (56000%)]\tLoss: 0.077067\n",
      "Train Epoch: 2 [3600 (56000%)]\tLoss: 0.327959\n",
      "Train Epoch: 2 [3700 (56000%)]\tLoss: 0.219439\n",
      "Train Epoch: 2 [3800 (56000%)]\tLoss: 0.532784\n",
      "Train Epoch: 2 [3900 (56000%)]\tLoss: 0.437329\n",
      "Train Epoch: 2 [4000 (56000%)]\tLoss: 0.267047\n",
      "Train Epoch: 2 [4100 (56000%)]\tLoss: 0.297603\n",
      "Train Epoch: 2 [4200 (56000%)]\tLoss: 0.422482\n",
      "Train Epoch: 2 [4300 (56000%)]\tLoss: 0.271404\n",
      "Train Epoch: 2 [4400 (56000%)]\tLoss: 0.494698\n",
      "Train Epoch: 2 [4500 (56000%)]\tLoss: 0.297956\n",
      "Train Epoch: 2 [4600 (56000%)]\tLoss: 0.126246\n",
      "Train Epoch: 2 [4700 (56000%)]\tLoss: 0.234110\n",
      "Train Epoch: 2 [4800 (56000%)]\tLoss: 0.190577\n",
      "Train Epoch: 2 [4900 (56000%)]\tLoss: 0.228161\n",
      "Train Epoch: 2 [5000 (56000%)]\tLoss: 0.276526\n",
      "Train Epoch: 2 [5100 (56000%)]\tLoss: 0.225851\n",
      "Train Epoch: 2 [5200 (56000%)]\tLoss: 0.310710\n",
      "0.84375\n",
      "Train Epoch: 3 [5300 (56000%)]\tLoss: 0.297377\n",
      "Train Epoch: 3 [5400 (56000%)]\tLoss: 0.540575\n",
      "Train Epoch: 3 [5500 (56000%)]\tLoss: 0.216293\n",
      "Train Epoch: 3 [5600 (56000%)]\tLoss: 0.126109\n",
      "Train Epoch: 3 [5700 (56000%)]\tLoss: 0.238900\n",
      "Train Epoch: 3 [5800 (56000%)]\tLoss: 0.235554\n",
      "Train Epoch: 3 [5900 (56000%)]\tLoss: 0.201767\n",
      "Train Epoch: 3 [6000 (56000%)]\tLoss: 0.133222\n",
      "Train Epoch: 3 [6100 (56000%)]\tLoss: 0.314950\n",
      "Train Epoch: 3 [6200 (56000%)]\tLoss: 0.209626\n",
      "Train Epoch: 3 [6300 (56000%)]\tLoss: 0.434279\n",
      "Train Epoch: 3 [6400 (56000%)]\tLoss: 0.278234\n",
      "Train Epoch: 3 [6500 (56000%)]\tLoss: 0.187435\n",
      "Train Epoch: 3 [6600 (56000%)]\tLoss: 0.193835\n",
      "Train Epoch: 3 [6700 (56000%)]\tLoss: 0.041979\n",
      "Train Epoch: 3 [6800 (56000%)]\tLoss: 0.284066\n",
      "Train Epoch: 3 [6900 (56000%)]\tLoss: 0.155285\n",
      "0.9375\n",
      "Train Epoch: 4 [7000 (56000%)]\tLoss: 0.062224\n",
      "Train Epoch: 4 [7100 (56000%)]\tLoss: 0.271730\n",
      "Train Epoch: 4 [7200 (56000%)]\tLoss: 0.131212\n",
      "Train Epoch: 4 [7300 (56000%)]\tLoss: 0.416766\n",
      "Train Epoch: 4 [7400 (56000%)]\tLoss: 0.415221\n",
      "Train Epoch: 4 [7500 (56000%)]\tLoss: 0.197005\n",
      "Train Epoch: 4 [7600 (56000%)]\tLoss: 0.242972\n",
      "Train Epoch: 4 [7700 (56000%)]\tLoss: 0.353496\n",
      "Train Epoch: 4 [7800 (56000%)]\tLoss: 0.236362\n",
      "Train Epoch: 4 [7900 (56000%)]\tLoss: 0.454056\n",
      "Train Epoch: 4 [8000 (56000%)]\tLoss: 0.253425\n",
      "Train Epoch: 4 [8100 (56000%)]\tLoss: 0.095670\n",
      "Train Epoch: 4 [8200 (56000%)]\tLoss: 0.209851\n",
      "Train Epoch: 4 [8300 (56000%)]\tLoss: 0.160220\n",
      "Train Epoch: 4 [8400 (56000%)]\tLoss: 0.164461\n",
      "Train Epoch: 4 [8500 (56000%)]\tLoss: 0.255768\n",
      "Train Epoch: 4 [8600 (56000%)]\tLoss: 0.204455\n",
      "Train Epoch: 4 [8700 (56000%)]\tLoss: 0.225829\n",
      "0.875\n"
     ]
    }
   ],
   "source": [
    "# DataLoader stuff\n",
    "trainloader = DataLoader(FMNISTDatapy(x_train,y_train,train=True),batch_size=32)\n",
    "testloader  = DataLoader(FMNISTDatapy(x_test,y_test,train=False))\n",
    "\n",
    "# CNN stuff\n",
    "epochs = 5\n",
    "# learning rate\n",
    "lr = 1e-4\n",
    "# Learning rate step gamma\n",
    "gamma = 1.0\n",
    "batch_size = 32\n",
    "# set true if using GPU during training\n",
    "#use_cuda = True\n",
    "\n",
    "device = torch.device('cuda:0' if torch.cuda.is_available() else 'cpu')\n",
    "\n",
    "net = SimpleCNN()\n",
    "net = net.float()\n",
    "net.to(device)\n",
    "net.train()\n",
    "\n",
    "criterion = nn.CrossEntropyLoss()    # combines a logSoftMax                                   \n",
    "\n",
    "\n",
    "optimizer = torch.optim.Adam(net.parameters(), lr)\n",
    "\n",
    "#scheduler = torch.optim.lr_scheduler.StepLR(optimizer, step_size=10, gamma = gamma)\n",
    "\n",
    "# Calculate accuracy before training\n",
    "correct = 0\n",
    "total = 0\n",
    "#Plotting stuff\n",
    "\n",
    "log_every = 100\n",
    "cnt = 0\n",
    "train_log = {'iter': [], 'loss': [], 'accuracy': []}\n",
    "\n",
    "# Iterate through train dataset\n",
    "for epoch in range(epochs):\n",
    "    for images, labels in trainloader:\n",
    "        images, labels = images.to(device), labels.to(device)\n",
    "        images = images.reshape([32,1,28,28])\n",
    "        \n",
    "        # print(type(images))      \n",
    "        # warp input images in a Variable wrapper\n",
    "        images = Variable(images)\n",
    "        optimizer.zero_grad()\n",
    "        outputs = net(images.float())\n",
    "        # Calculate the loss\n",
    "        loss = F.cross_entropy(outputs,labels.long())\n",
    "        # Calculate gradient w.r.t the loss\n",
    "        loss.backward()\n",
    "        # Optimizer takes one step\n",
    "        optimizer.step()\n",
    "        # Log info\n",
    "        if cnt % log_every == 0:\n",
    "            print('Train Epoch: {} [{} ({:.0f}%)]\\tLoss: {:.6f}'.format(\n",
    "                epoch, cnt, len(trainloader.dataset),\n",
    "                       loss.item()))\n",
    "            train_log['iter'].append(cnt)\n",
    "            train_log['loss'].append(loss.cpu().detach().numpy())\n",
    "            #get the predicted class from the maximum value in the output-list of class scores\n",
    "            pred = outputs.argmax(dim=1, keepdim=True)\n",
    "            correct = pred.eq(labels.view_as(pred)).sum().item()\n",
    "            train_acc =  correct/batch_size\n",
    "            train_log['accuracy'].append(train_acc)\n",
    "        cnt += 1\n",
    "\n",
    "    # calculate the accuracy\n",
    "    #scheduler.step()\n",
    "    #if epoch%10 == 0:\n",
    "    print(train_acc)\n"
   ]
  },
  {
   "cell_type": "code",
   "execution_count": 8,
   "id": "b0cb955b-f759-4555-8616-432303ee5b09",
   "metadata": {
    "tags": []
   },
   "outputs": [
    {
     "data": {
      "image/png": "[encoded data removed]",
      "text/plain": [
       "<Figure size 432x288 with 1 Axes>"
      ]
     },
     "metadata": {
      "needs_background": "light"
     },
     "output_type": "display_data"
    },
    {
     "data": {
      "image/png": "[encoded data removed]",
      "text/plain": [
       "<Figure size 432x288 with 1 Axes>"
      ]
     },
     "metadata": {
      "needs_background": "light"
     },
     "output_type": "display_data"
    }
   ],
   "source": [
    "fig = plt.figure()\n",
    "plt.plot(train_log['iter'], train_log['loss'], 'r', label='Training')\n",
    "plt.title('Loss')\n",
    "plt.legend()\n",
    "fig = plt.figure()\n",
    "plt.plot(train_log['iter'], train_log['accuracy'], 'r', label='Training')\n",
    "plt.title('Accuracy')\n",
    "plt.legend()\n",
    "plt.show()"
   ]
  },
  {
   "cell_type": "code",
   "execution_count": 9,
   "id": "a18d5561-dd9d-4c99-b31d-0e9885c88fa1",
   "metadata": {},
   "outputs": [],
   "source": [
    "def test(model, device, test_loader):\n",
    "    \"\"\"Evaluate model on test dataset.\"\"\"\n",
    "    model.eval()\n",
    "    test_loss = 0\n",
    "    correct = 0\n",
    "    with torch.no_grad():\n",
    "        for data, target in test_loader:\n",
    "            data = data.reshape([1,1,28,28])  \n",
    "            data = Variable(data)\n",
    "            data, target = data.to(device), target.to(device)\n",
    "            output = model(data.float())\n",
    "            test_loss += F.cross_entropy(output, target.long(), reduction='sum').item()  # sum up batch loss\n",
    "            pred = output.argmax(dim=1, keepdim=True)  # get the index of the max log-probability\n",
    "            correct += pred.eq(target.view_as(pred)).sum().item()\n",
    "\n",
    "    test_loss /= len(test_loader.dataset)\n",
    "\n",
    "    print('\\nTest set: Average loss: {:.4f}, Accuracy: {}/{} ({:.0f}%)\\n'.format(\n",
    "        test_loss, correct, len(test_loader.dataset),\n",
    "        100. * correct / len(test_loader.dataset)))\n",
    "\n",
    "    return test_loss, correct / len(test_loader.dataset)"
   ]
  },
  {
   "cell_type": "code",
   "execution_count": 10,
   "id": "fc672157-9bb2-46ac-be70-2501e5954489",
   "metadata": {},
   "outputs": [
    {
     "name": "stdout",
     "output_type": "stream",
     "text": [
      "\n",
      "Test set: Average loss: 0.2575, Accuracy: 12728/14000 (91%)\n",
      "\n"
     ]
    },
    {
     "data": {
      "text/plain": [
       "(0.2575317470849978, 0.9091428571428571)"
      ]
     },
     "execution_count": 10,
     "metadata": {},
     "output_type": "execute_result"
    }
   ],
   "source": [
    "test(net, device, testloader)"
   ]
  },
  {
   "cell_type": "code",
   "execution_count": 11,
   "id": "09d2d685-1fcc-451e-bec3-06d364d66bad",
   "metadata": {},
   "outputs": [
    {
     "data": {
      "text/plain": [
       "SVC()"
      ]
     },
     "execution_count": 11,
     "metadata": {},
     "output_type": "execute_result"
    }
   ],
   "source": [
    "# SVM stuff\n",
    "svmCLF = SVC()\n",
    "svmCLF.fit(x_train, y_train)"
   ]
  },
  {
   "cell_type": "code",
   "execution_count": 12,
   "id": "fcdaaa81-5949-4c2e-a7f6-1f0ca48e511f",
   "metadata": {},
   "outputs": [],
   "source": [
    "y_pred = svmCLF.predict(x_test)"
   ]
  },
  {
   "cell_type": "code",
   "execution_count": 13,
   "id": "bbda40cc-3514-48d8-8835-4cafbc44d4f9",
   "metadata": {},
   "outputs": [
    {
     "name": "stdout",
     "output_type": "stream",
     "text": [
      "SVM Model Accuracy:0.8887857142857143\n"
     ]
    }
   ],
   "source": [
    "print(f\"SVM Model Accuracy:{svmCLF.score(x_test, y_test)}\")"
   ]
  },
  {
   "cell_type": "code",
   "execution_count": 14,
   "id": "e1219af2-f208-4ef8-bd9e-b2c4c456a53e",
   "metadata": {},
   "outputs": [],
   "source": [
    "np.random.seed(8675309)\n",
    "gauss_noise = np.random.normal(0,10, (14000, 784))\n",
    "x_test_gauss = x_test + gauss_noise\n",
    "x_test_speckle = x_test + x_test*gauss_noise*0.05 "
   ]
  },
  {
   "cell_type": "code",
   "execution_count": 15,
   "id": "b6dc9e0d-773e-4060-b0a5-ecb5552f22fa",
   "metadata": {
    "tags": []
   },
   "outputs": [
    {
     "data": {
      "image/png": "[encoded data removed]",
      "text/plain": [
       "<Figure size 432x288 with 1 Axes>"
      ]
     },
     "metadata": {
      "needs_background": "light"
     },
     "output_type": "display_data"
    },
    {
     "data": {
      "image/png": "[encoded data removed]",
      "text/plain": [
       "<Figure size 432x288 with 1 Axes>"
      ]
     },
     "metadata": {
      "needs_background": "light"
     },
     "output_type": "display_data"
    },
    {
     "data": {
      "image/png": "[encoded data removed]",
      "text/plain": [
       "<Figure size 432x288 with 1 Axes>"
      ]
     },
     "metadata": {
      "needs_background": "light"
     },
     "output_type": "display_data"
    }
   ],
   "source": [
    "imc = 1\n",
    "plt.imshow(x_test[imc,:].reshape(28,28), cmap = 'gray')\n",
    "plt.show()\n",
    "plt.imshow(x_test_gauss[imc,:].reshape(28,28), cmap = 'gray')\n",
    "plt.show()\n",
    "plt.imshow(x_test_speckle[imc,:].reshape(28,28), cmap = 'gray')\n",
    "plt.show()"
   ]
  },
  {
   "cell_type": "code",
   "execution_count": 16,
   "id": "2e3cc87f-7cf5-4829-a178-75ea268582e6",
   "metadata": {},
   "outputs": [
    {
     "name": "stdout",
     "output_type": "stream",
     "text": [
      "SVM Model Accuracy:0.8891428571428571\n"
     ]
    }
   ],
   "source": [
    "y_pred_gauss = svmCLF.predict(x_test_gauss)\n",
    "print(f\"SVM Model Accuracy:{svmCLF.score(x_test_gauss, y_test)}\")"
   ]
  },
  {
   "cell_type": "code",
   "execution_count": 17,
   "id": "889409bd-a97f-4e12-8e82-3a67277b4b64",
   "metadata": {
    "tags": []
   },
   "outputs": [
    {
     "name": "stdout",
     "output_type": "stream",
     "text": [
      "SVM Model Accuracy:0.7947142857142857\n"
     ]
    }
   ],
   "source": [
    "y_pred_speckle = svmCLF.predict(x_test_speckle)\n",
    "print(f\"SVM Model Accuracy:{svmCLF.score(x_test_speckle, y_test)}\")"
   ]
  },
  {
   "cell_type": "code",
   "execution_count": 18,
   "id": "8784edc4-993a-4678-8ae3-ce66a1993e1c",
   "metadata": {},
   "outputs": [],
   "source": [
    "gaussloader  = DataLoader(FMNISTDatapy(x_test_gauss,y_test,train=False))\n",
    "speckleloader  = DataLoader(FMNISTDatapy(x_test_speckle,y_test,train=False))"
   ]
  },
  {
   "cell_type": "code",
   "execution_count": 19,
   "id": "472d2e53-ed54-418c-8f8b-70bb8a081fb4",
   "metadata": {},
   "outputs": [
    {
     "name": "stdout",
     "output_type": "stream",
     "text": [
      "\n",
      "Test set: Average loss: 0.2837, Accuracy: 12590/14000 (90%)\n",
      "\n"
     ]
    },
    {
     "data": {
      "text/plain": [
       "(0.28368166751199586, 0.8992857142857142)"
      ]
     },
     "execution_count": 19,
     "metadata": {},
     "output_type": "execute_result"
    }
   ],
   "source": [
    "test(net, device, gaussloader)"
   ]
  },
  {
   "cell_type": "code",
   "execution_count": 20,
   "id": "801392be-b67d-45fa-b4ed-217067d934ba",
   "metadata": {},
   "outputs": [
    {
     "name": "stdout",
     "output_type": "stream",
     "text": [
      "\n",
      "Test set: Average loss: 0.9296, Accuracy: 10555/14000 (75%)\n",
      "\n"
     ]
    },
    {
     "data": {
      "text/plain": [
       "(0.9296168071685936, 0.7539285714285714)"
      ]
     },
     "execution_count": 20,
     "metadata": {},
     "output_type": "execute_result"
    }
   ],
   "source": [
    "test(net, device, speckleloader)"
   ]
  },
  {
   "cell_type": "code",
   "execution_count": 21,
   "id": "1fb3a705-633c-4df2-b7af-f6a33d4a0baf",
   "metadata": {},
   "outputs": [
    {
     "data": {
      "text/plain": [
       "SVC()"
      ]
     },
     "execution_count": 21,
     "metadata": {},
     "output_type": "execute_result"
    }
   ],
   "source": [
    "# SVM stuff\n",
    "#from sklearn.svm import LinearSVC\n",
    "rbfCLF = SVC(kernel='rbf')\n",
    "rbfCLF.fit(x_train, y_train)"
   ]
  },
  {
   "cell_type": "code",
   "execution_count": 22,
   "id": "94729769-aa0f-4d9a-9676-84aa297fc7a5",
   "metadata": {},
   "outputs": [
    {
     "name": "stdout",
     "output_type": "stream",
     "text": [
      "SVM Model Accuracy:0.8887857142857143\n"
     ]
    }
   ],
   "source": [
    "y_pred_rbf = rbfCLF.predict(x_test)\n",
    "print(f\"SVM Model Accuracy:{rbfCLF.score(x_test, y_test)}\")"
   ]
  },
  {
   "cell_type": "code",
   "execution_count": 23,
   "id": "0aec8f36-a4c5-44fc-ada2-38b6ff48e3df",
   "metadata": {},
   "outputs": [
    {
     "name": "stdout",
     "output_type": "stream",
     "text": [
      "SVM Model Accuracy:0.8891428571428571\n"
     ]
    }
   ],
   "source": [
    "y_pred_rbfg = rbfCLF.predict(x_test_gauss)\n",
    "print(f\"SVM Model Accuracy:{rbfCLF.score(x_test_gauss, y_test)}\")"
   ]
  },
  {
   "cell_type": "code",
   "execution_count": 24,
   "id": "4f4e87e3-a405-4713-9d5d-b1f6dbd3bafb",
   "metadata": {
    "tags": []
   },
   "outputs": [
    {
     "name": "stdout",
     "output_type": "stream",
     "text": [
      "SVM Model Accuracy:0.7947142857142857\n"
     ]
    }
   ],
   "source": [
    "y_pred_rbfs = rbfCLF.predict(x_test_speckle)\n",
    "print(f\"SVM Model Accuracy:{rbfCLF.score(x_test_speckle, y_test)}\")"
   ]
  },
  {
   "cell_type": "code",
   "execution_count": 25,
   "id": "5e8b3b74-3929-46fa-be78-c688bca3b6c8",
   "metadata": {},
   "outputs": [
    {
     "data": {
      "text/plain": [
       "SVC(kernel='poly')"
      ]
     },
     "execution_count": 25,
     "metadata": {},
     "output_type": "execute_result"
    }
   ],
   "source": [
    "polyCLF = SVC(kernel='poly')\n",
    "polyCLF.fit(x_train, y_train)"
   ]
  },
  {
   "cell_type": "code",
   "execution_count": 26,
   "id": "a73b7df7-213e-48df-81fd-d5a081c611a3",
   "metadata": {},
   "outputs": [
    {
     "name": "stdout",
     "output_type": "stream",
     "text": [
      "SVM Model Accuracy:0.8702857142857143\n"
     ]
    }
   ],
   "source": [
    "y_pred_poly = polyCLF.predict(x_test)\n",
    "print(f\"SVM Model Accuracy:{polyCLF.score(x_test, y_test)}\")"
   ]
  },
  {
   "cell_type": "code",
   "execution_count": 27,
   "id": "8235cc76-e18d-4ecd-9892-a19660f71446",
   "metadata": {},
   "outputs": [
    {
     "name": "stdout",
     "output_type": "stream",
     "text": [
      "SVM Model Accuracy:0.8696428571428572\n"
     ]
    }
   ],
   "source": [
    "y_pred_polyg = polyCLF.predict(x_test_gauss)\n",
    "print(f\"SVM Model Accuracy:{polyCLF.score(x_test_gauss, y_test)}\")"
   ]
  },
  {
   "cell_type": "code",
   "execution_count": 28,
   "id": "efed2648-87a0-430a-8ac2-19684158336d",
   "metadata": {},
   "outputs": [
    {
     "name": "stdout",
     "output_type": "stream",
     "text": [
      "SVM Model Accuracy:0.8186428571428571\n"
     ]
    }
   ],
   "source": [
    "y_pred_polys = polyCLF.predict(x_test_speckle)\n",
    "print(f\"SVM Model Accuracy:{polyCLF.score(x_test_speckle, y_test)}\")"
   ]
  },
  {
   "cell_type": "code",
   "execution_count": 29,
   "id": "29ed838b-1cde-48a0-a673-662f18ebd469",
   "metadata": {},
   "outputs": [
    {
     "data": {
      "text/plain": [
       "SVC(C=5)"
      ]
     },
     "execution_count": 29,
     "metadata": {},
     "output_type": "execute_result"
    }
   ],
   "source": [
    "bestCLF = SVC(kernel='rbf', C=5)\n",
    "bestCLF.fit(x_train, y_train)"
   ]
  },
  {
   "cell_type": "code",
   "execution_count": 30,
   "id": "0b6e8e2d-fe12-40bd-aa28-c24e24c38c8e",
   "metadata": {},
   "outputs": [
    {
     "name": "stdout",
     "output_type": "stream",
     "text": [
      "SVM Model Accuracy:0.903\n"
     ]
    }
   ],
   "source": [
    "y_pred_b = bestCLF.predict(x_test)\n",
    "print(f\"SVM Model Accuracy:{bestCLF.score(x_test, y_test)}\")"
   ]
  },
  {
   "cell_type": "code",
   "execution_count": 31,
   "id": "fac78e25-45bf-42c1-98b4-b8b40cb830c9",
   "metadata": {},
   "outputs": [
    {
     "name": "stdout",
     "output_type": "stream",
     "text": [
      "SVM Model Accuracy:0.9029285714285714\n"
     ]
    }
   ],
   "source": [
    "y_pred_bg = bestCLF.predict(x_test_gauss)\n",
    "print(f\"SVM Model Accuracy:{bestCLF.score(x_test_gauss, y_test)}\")"
   ]
  },
  {
   "cell_type": "code",
   "execution_count": 33,
   "id": "02bc1739-a7ef-4424-9503-4654457e2173",
   "metadata": {},
   "outputs": [
    {
     "name": "stdout",
     "output_type": "stream",
     "text": [
      "SVM Model Accuracy:0.7577857142857143\n"
     ]
    }
   ],
   "source": [
    "y_pred_bs = bestCLF.predict(x_test_speckle)\n",
    "print(f\"SVM Model Accuracy:{bestCLF.score(x_test_speckle, y_test)}\")"
   ]
  },
  {
   "cell_type": "code",
   "execution_count": 34,
   "id": "ad4317cb-ea81-41e3-8577-111df557ef24",
   "metadata": {},
   "outputs": [],
   "source": [
    "from sklearn.decomposition import PCA\n",
    "\n",
    "# Calculate means\n",
    "x_train_mean = x_train.mean(axis=0)\n",
    "x_train_nm = x_train - x_train_mean\n",
    "\n",
    "# Initialize PCA object\n",
    "pca = PCA(n_components=2)\n",
    "\n",
    "# Fit PCA to normalized data with no components\n",
    "Z = pca.fit_transform(x_train_nm)\n",
    "\n",
    "# Principal Components\n",
    "V = pca.components_\n",
    "\n",
    "# First and second PC\n",
    "Z_x = Z[0]\n",
    "Z_y = Z[1]\n",
    "\n",
    "# Standard deviations of both components\n",
    "std_x = np.std(Z_x)\n",
    "std_y = np.std(Z_y)\n",
    "\n",
    "# Grid parameters\n",
    "x_min, x_max = -5*std_x, 5*std_x\n",
    "y_min, y_max = -5*std_y, 5*std_y\n",
    "x_step = std_x/20\n",
    "y_step = std_y/20\n",
    "\n",
    "xx, yy = np.meshgrid(np.arange(x_min, x_max, x_step), np.arange(y_min, y_max, y_step))\n",
    "\n",
    "# Projected points into PC plane\n",
    "z = np.c_[xx.ravel(), yy.ravel()]\n",
    "\n",
    "# Revert projection\n",
    "x = np.dot(z,V)"
   ]
  },
  {
   "cell_type": "code",
   "execution_count": 35,
   "id": "a49f4642-ea6a-48d8-89b8-4806588e4fd3",
   "metadata": {},
   "outputs": [],
   "source": [
    "predictions = bestCLF.predict(x)\n",
    "predictions = predictions.reshape(xx.shape)"
   ]
  },
  {
   "cell_type": "code",
   "execution_count": 37,
   "id": "87323d37-ad05-4e66-90a6-061a0db84106",
   "metadata": {},
   "outputs": [
    {
     "name": "stderr",
     "output_type": "stream",
     "text": [
      "/local_scratch/pbs.4952583.pbs02/ipykernel_3391349/15765804.py:6: MatplotlibDeprecationWarning: Auto-removal of grids by pcolor() and pcolormesh() is deprecated since 3.5 and will be removed two minor releases later; please call grid(False) first.\n",
      "  clb = plt.colorbar(contour, boundaries=list(np.unique(predictions)),\n"
     ]
    },
    {
     "data": {
      "image/png": "[encoded data removed]",
      "text/plain": [
       "<Figure size 1080x720 with 2 Axes>"
      ]
     },
     "metadata": {},
     "output_type": "display_data"
    }
   ],
   "source": [
    "import seaborn as sns\n",
    "\n",
    "sns.set_style(\"whitegrid\")\n",
    "plt.figure(figsize = (15,10))\n",
    "contour = plt.contourf(xx, yy, predictions, cmap=plt.cm.coolwarm)\n",
    "clb = plt.colorbar(contour, boundaries=list(np.unique(predictions)),\n",
    "                        ticks=list(np.unique(predictions)),spacing='proportional')\n",
    "clb.ax.set_title('Class', fontsize=15)\n",
    "plt.xlabel('1st Principal Component', fontsize = 15)\n",
    "plt.ylabel('2nd Principal Component', fontsize = 15)\n",
    "plt.title(\"Decision surface of Support Vector Machine\", fontweight = 'bold', fontsize=15)\n",
    "plt.savefig(\"full-setSVM.png\")"
   ]
  }
 ],
 "metadata": {
  "kernelspec": {
   "display_name": "Python 3 (ipykernel)",
   "language": "python",
   "name": "python3"
  },
  "language_info": {
   "codemirror_mode": {
    "name": "ipython",
    "version": 3
   },
   "file_extension": ".py",
   "mimetype": "text/x-python",
   "name": "python",
   "nbconvert_exporter": "python",
   "pygments_lexer": "ipython3",
   "version": "3.8.3"
  }
 },
 "nbformat": 4,
 "nbformat_minor": 5
}
